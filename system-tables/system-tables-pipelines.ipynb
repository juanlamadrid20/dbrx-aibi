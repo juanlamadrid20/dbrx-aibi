{
 "cells": [
  {
   "cell_type": "code",
   "execution_count": 0,
   "metadata": {
    "application/vnd.databricks.v1+cell": {
     "cellMetadata": {
      "byteLimit": 2048000,
      "rowLimit": 10000
     },
     "inputWidgets": {},
     "nuid": "f41a5b5b-8af1-4381-a175-0bb3f81a8a35",
     "showTitle": false,
     "tableResultSettingsMap": {},
     "title": ""
    }
   },
   "outputs": [],
   "source": [
    "SELECT *\n",
    "FROM\n",
    "  system.billing.usage\n",
    "WHERE\n",
    "  usage_metadata.dlt_pipeline_id = :dlt_pipeline_id\n",
    "  AND usage_start_time >= :usage_start_time\n",
    "  AND usage_end_time < :usage_end_time\n",
    "ORDER BY usage_date DESC"
   ]
  },
  {
   "cell_type": "code",
   "execution_count": 0,
   "metadata": {
    "application/vnd.databricks.v1+cell": {
     "cellMetadata": {
      "byteLimit": 2048000,
      "rowLimit": 10000
     },
     "inputWidgets": {},
     "nuid": "f22a5beb-2eee-41e0-80c0-e92789cb4638",
     "showTitle": false,
     "tableResultSettingsMap": {},
     "title": ""
    }
   },
   "outputs": [],
   "source": [
    "SELECT\n",
    "  t1.usage_date,\n",
    "   t1.workspace_id,\n",
    "   SUM(t1.usage_quantity) AS `DBUs`,\n",
    "   list_prices.pricing.default as list_price,\n",
    "   SUM(t1.usage_quantity * list_prices.pricing.default) as list_cost\n",
    "FROM system.billing.usage t1\n",
    "INNER JOIN system.billing.list_prices on\n",
    "   t1.cloud = list_prices.cloud and\n",
    "   t1.sku_name = list_prices.sku_name and\n",
    "   t1.usage_start_time >= list_prices.price_start_time and\n",
    "   (t1.usage_end_time <= list_prices.price_end_time or list_prices.price_end_time is null)\n",
    "WHERE\n",
    "   t1.sku_name LIKE '%SERVERLESS%'\n",
    "  --  AND billing_origin_product IN (\"JOBS\", \"INTERACTIVE\")\n",
    "   AND t1.usage_date >= CURRENT_DATE() - INTERVAL 30 DAYS\n",
    "   AND t1.usage_metadata.dlt_pipeline_id = :dlt_pipeline_id\n",
    "GROUP BY ALL\n",
    "ORDER BY t1.usage_date DESC"
   ]
  },
  {
   "cell_type": "code",
   "execution_count": 0,
   "metadata": {
    "application/vnd.databricks.v1+cell": {
     "cellMetadata": {
      "byteLimit": 2048000,
      "rowLimit": 10000
     },
     "inputWidgets": {},
     "nuid": "e42cd344-34ec-4d55-bdb8-2a5c805ed918",
     "showTitle": false,
     "tableResultSettingsMap": {},
     "title": ""
    }
   },
   "outputs": [],
   "source": [
    "SELECT\n",
    "   t1.*,\n",
    "   list_prices.pricing.default as list_cost\n",
    "FROM system.billing.usage t1\n",
    "INNER JOIN system.billing.list_prices on\n",
    "   t1.cloud = list_prices.cloud and\n",
    "   t1.sku_name = list_prices.sku_name and\n",
    "   t1.usage_start_time >= list_prices.price_start_time and\n",
    "   (t1.usage_end_time <= list_prices.price_end_time or list_prices.price_end_time is null)\n",
    "WHERE\n",
    "   t1.sku_name LIKE '%SERVERLESS%'\n",
    "  --  AND billing_origin_product IN (\"JOBS\", \"INTERACTIVE\")\n",
    "   AND t1.usage_date >= CURRENT_DATE() - INTERVAL 30 DAYS\n",
    "   AND t1.usage_metadata.dlt_pipeline_id = :dlt_pipeline_id\n",
    "ORDER BY t1.usage_start_time DESC"
   ]
  },
  {
   "cell_type": "code",
   "execution_count": 0,
   "metadata": {
    "application/vnd.databricks.v1+cell": {
     "cellMetadata": {},
     "inputWidgets": {},
     "nuid": "e4c3862b-147d-4c61-b1b8-dec23adfe5d4",
     "showTitle": false,
     "tableResultSettingsMap": {},
     "title": ""
    }
   },
   "outputs": [],
   "source": []
  }
 ],
 "metadata": {
  "application/vnd.databricks.v1+notebook": {
   "computePreferences": null,
   "dashboards": [],
   "environmentMetadata": {
    "base_environment": "",
    "environment_version": "2"
   },
   "inputWidgetPreferences": null,
   "language": "sql",
   "notebookMetadata": {},
   "notebookName": "system-tables-pipelines",
   "widgets": {
    "dlt_pipeline_id": {
     "currentValue": "ad859d4f-efec-410b-a8e4-f9ebe5d656b2",
     "nuid": "fcbf53ed-cee1-4766-963d-f3e11ab72713",
     "typedWidgetInfo": {
      "autoCreated": true,
      "defaultValue": "",
      "label": null,
      "name": "dlt_pipeline_id",
      "options": {
       "widgetDisplayType": "Text",
       "validationRegex": null
      },
      "parameterDataType": "String"
     },
     "widgetInfo": {
      "widgetType": "text",
      "defaultValue": "",
      "label": null,
      "name": "dlt_pipeline_id",
      "options": {
       "widgetType": "text",
       "autoCreated": true,
       "validationRegex": null
      }
     }
    },
    "usage_end_time": {
     "currentValue": "2025-04-01",
     "nuid": "b7cf8ee8-b02e-44e1-af84-f049d3883110",
     "typedWidgetInfo": {
      "autoCreated": true,
      "defaultValue": "",
      "label": null,
      "name": "usage_end_time",
      "options": {
       "widgetDisplayType": "Text",
       "validationRegex": null
      },
      "parameterDataType": "String"
     },
     "widgetInfo": {
      "widgetType": "text",
      "defaultValue": "",
      "label": null,
      "name": "usage_end_time",
      "options": {
       "widgetType": "text",
       "autoCreated": true,
       "validationRegex": null
      }
     }
    },
    "usage_start_time": {
     "currentValue": "2025-01-01",
     "nuid": "701a3714-196f-420d-8fb7-afbf474721d6",
     "typedWidgetInfo": {
      "autoCreated": true,
      "defaultValue": "",
      "label": null,
      "name": "usage_start_time",
      "options": {
       "widgetDisplayType": "Text",
       "validationRegex": null
      },
      "parameterDataType": "String"
     },
     "widgetInfo": {
      "widgetType": "text",
      "defaultValue": "",
      "label": null,
      "name": "usage_start_time",
      "options": {
       "widgetType": "text",
       "autoCreated": true,
       "validationRegex": null
      }
     }
    }
   }
  },
  "language_info": {
   "name": "sql"
  }
 },
 "nbformat": 4,
 "nbformat_minor": 0
}
