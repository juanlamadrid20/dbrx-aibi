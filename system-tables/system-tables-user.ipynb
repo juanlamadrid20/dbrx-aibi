{
 "cells": [
  {
   "cell_type": "markdown",
   "metadata": {
    "application/vnd.databricks.v1+cell": {
     "cellMetadata": {},
     "inputWidgets": {},
     "nuid": "f80dc12a-92d8-4e0e-b4a7-8f57f7b40681",
     "showTitle": false,
     "tableResultSettingsMap": {},
     "title": ""
    }
   },
   "source": [
    "\n",
    "# Run\n",
    "- This notebook is entirelly sql; rec'd running against serverless sql warehouse for best experience."
   ]
  },
  {
   "cell_type": "code",
   "execution_count": 1,
   "metadata": {
    "application/vnd.databricks.v1+cell": {
     "cellMetadata": {
      "byteLimit": 2048000,
      "rowLimit": 10000
     },
     "inputWidgets": {},
     "nuid": "7a91fc36-c9bf-47df-b3da-f9d7792ac75c",
     "showTitle": false,
     "tableResultSettingsMap": {},
     "title": ""
    },
    "vscode": {
     "languageId": "sql"
    }
   },
   "outputs": [
    {
     "data": {
      "application/vnd.jupyter.widget-view+json": {
       "model_id": "50a8282ea9b743b3a311a3e242e03936",
       "version_major": 2,
       "version_minor": 0
      },
      "text/plain": [
       "HBox(children=(IntProgress(value=0, bar_style='success'), Label(value='')))"
      ]
     },
     "metadata": {},
     "output_type": "display_data"
    },
    {
     "data": {
      "text/html": [
       "<table border=\"1\" class=\"dataframe\">\n",
       "  <thead>\n",
       "    <tr style=\"text-align: right;\">\n",
       "      <th></th>\n",
       "      <th>Date</th>\n",
       "      <th>year_month</th>\n",
       "      <th>workspace_id</th>\n",
       "      <th>user_email</th>\n",
       "    </tr>\n",
       "  </thead>\n",
       "  <tbody>\n",
       "    <tr>\n",
       "      <th>0</th>\n",
       "      <td>2024-11-08</td>\n",
       "      <td>2024-11</td>\n",
       "      <td>0</td>\n",
       "      <td>siddhesh.pore@databricks.com</td>\n",
       "    </tr>\n",
       "    <tr>\n",
       "      <th>1</th>\n",
       "      <td>2024-11-08</td>\n",
       "      <td>2024-11</td>\n",
       "      <td>0</td>\n",
       "      <td>d0423bc4-ecd2-4ac8-bd93-c40d989956f6</td>\n",
       "    </tr>\n",
       "    <tr>\n",
       "      <th>2</th>\n",
       "      <td>2024-11-08</td>\n",
       "      <td>2024-11</td>\n",
       "      <td>0</td>\n",
       "      <td>ritesh.patel@databricks.com</td>\n",
       "    </tr>\n",
       "    <tr>\n",
       "      <th>3</th>\n",
       "      <td>2024-11-08</td>\n",
       "      <td>2024-11</td>\n",
       "      <td>2556758628403379</td>\n",
       "      <td>eric.ferreira@databricks.com</td>\n",
       "    </tr>\n",
       "    <tr>\n",
       "      <th>4</th>\n",
       "      <td>2024-11-08</td>\n",
       "      <td>2024-11</td>\n",
       "      <td>0</td>\n",
       "      <td>roy.bang@databricks.com</td>\n",
       "    </tr>\n",
       "    <tr>\n",
       "      <th>5</th>\n",
       "      <td>2024-11-08</td>\n",
       "      <td>2024-11</td>\n",
       "      <td>0</td>\n",
       "      <td>suman.misra@databricks.com</td>\n",
       "    </tr>\n",
       "    <tr>\n",
       "      <th>6</th>\n",
       "      <td>2024-11-08</td>\n",
       "      <td>2024-11</td>\n",
       "      <td>0</td>\n",
       "      <td>eric.peter@databricks.com</td>\n",
       "    </tr>\n",
       "    <tr>\n",
       "      <th>7</th>\n",
       "      <td>2024-11-08</td>\n",
       "      <td>2024-11</td>\n",
       "      <td>0</td>\n",
       "      <td>3ca21e2b-45b3-442e-8278-0ea811229cf1</td>\n",
       "    </tr>\n",
       "    <tr>\n",
       "      <th>8</th>\n",
       "      <td>2024-11-08</td>\n",
       "      <td>2024-11</td>\n",
       "      <td>0</td>\n",
       "      <td>nishant.deshpande@databricks.com</td>\n",
       "    </tr>\n",
       "    <tr>\n",
       "      <th>9</th>\n",
       "      <td>2024-11-08</td>\n",
       "      <td>2024-11</td>\n",
       "      <td>0</td>\n",
       "      <td>yatish.anand@databricks.com</td>\n",
       "    </tr>\n",
       "    <tr>\n",
       "      <th>10</th>\n",
       "      <td>2024-11-08</td>\n",
       "      <td>2024-11</td>\n",
       "      <td>0</td>\n",
       "      <td>cristina.sanchezrebollo@databricks.com</td>\n",
       "    </tr>\n",
       "    <tr>\n",
       "      <th>11</th>\n",
       "      <td>2024-11-08</td>\n",
       "      <td>2024-11</td>\n",
       "      <td>0</td>\n",
       "      <td>rabi.abbasi@databricks.com</td>\n",
       "    </tr>\n",
       "    <tr>\n",
       "      <th>12</th>\n",
       "      <td>2024-11-08</td>\n",
       "      <td>2024-11</td>\n",
       "      <td>0</td>\n",
       "      <td>may.merkletan@databricks.com</td>\n",
       "    </tr>\n",
       "    <tr>\n",
       "      <th>13</th>\n",
       "      <td>2024-11-08</td>\n",
       "      <td>2024-11</td>\n",
       "      <td>0</td>\n",
       "      <td>julie.nguyen@databricks.com</td>\n",
       "    </tr>\n",
       "    <tr>\n",
       "      <th>14</th>\n",
       "      <td>2024-11-08</td>\n",
       "      <td>2024-11</td>\n",
       "      <td>0</td>\n",
       "      <td>te.tan@databricks.com</td>\n",
       "    </tr>\n",
       "    <tr>\n",
       "      <th>15</th>\n",
       "      <td>2024-11-08</td>\n",
       "      <td>2024-11</td>\n",
       "      <td>0</td>\n",
       "      <td>santosh.katrathanda@databricks.com</td>\n",
       "    </tr>\n",
       "    <tr>\n",
       "      <th>16</th>\n",
       "      <td>2024-11-08</td>\n",
       "      <td>2024-11</td>\n",
       "      <td>0</td>\n",
       "      <td>andrew.greiner@databricks.com</td>\n",
       "    </tr>\n",
       "    <tr>\n",
       "      <th>17</th>\n",
       "      <td>2024-11-08</td>\n",
       "      <td>2024-11</td>\n",
       "      <td>0</td>\n",
       "      <td>amod.bhat@databricks.com</td>\n",
       "    </tr>\n",
       "    <tr>\n",
       "      <th>18</th>\n",
       "      <td>2024-11-08</td>\n",
       "      <td>2024-11</td>\n",
       "      <td>0</td>\n",
       "      <td>timo.lackmann@databricks.com</td>\n",
       "    </tr>\n",
       "    <tr>\n",
       "      <th>19</th>\n",
       "      <td>2024-11-08</td>\n",
       "      <td>2024-11</td>\n",
       "      <td>0</td>\n",
       "      <td>mike.mcwhorter@databricks.com</td>\n",
       "    </tr>\n",
       "  </tbody>\n",
       "</table>"
      ],
      "text/plain": [
       "DataFrame[Date: date, year_month: string, workspace_id: string, user_email: string]"
      ]
     },
     "execution_count": 1,
     "metadata": {},
     "output_type": "execute_result"
    }
   ],
   "source": [
    "%sql\n",
    "-- Daily and Monthly Active Users\n",
    "select\n",
    "  distinct event_date as `Date`,\n",
    "  date_format(event_date, 'yyyy-MM') AS year_month,\n",
    "  workspace_id,\n",
    "  user_identity.email as user_email\n",
    "from\n",
    "  system.access.audit"
   ]
  },
  {
   "cell_type": "code",
   "execution_count": 2,
   "metadata": {
    "application/vnd.databricks.v1+cell": {
     "cellMetadata": {
      "byteLimit": 2048000,
      "rowLimit": 10000
     },
     "inputWidgets": {},
     "nuid": "06ddcfab-c158-43a9-b8dd-dc020969eeec",
     "showTitle": false,
     "tableResultSettingsMap": {},
     "title": ""
    },
    "vscode": {
     "languageId": "sql"
    }
   },
   "outputs": [
    {
     "data": {
      "application/vnd.jupyter.widget-view+json": {
       "model_id": "cd1a3f7915874ea0ba33e5ee6ef42473",
       "version_major": 2,
       "version_minor": 0
      },
      "text/plain": [
       "HBox(children=(IntProgress(value=0, bar_style='success'), Label(value='')))"
      ]
     },
     "metadata": {},
     "output_type": "display_data"
    },
    {
     "data": {
      "text/html": [
       "<table border=\"1\" class=\"dataframe\">\n",
       "  <thead>\n",
       "    <tr style=\"text-align: right;\">\n",
       "      <th></th>\n",
       "      <th>sku_name</th>\n",
       "      <th>total_dbu</th>\n",
       "    </tr>\n",
       "  </thead>\n",
       "  <tbody>\n",
       "    <tr>\n",
       "      <th>0</th>\n",
       "      <td>ENTERPRISE_JOBS_SERVERLESS_COMPUTE_US_WEST_OREGON</td>\n",
       "      <td>243.507579245804739818</td>\n",
       "    </tr>\n",
       "    <tr>\n",
       "      <th>1</th>\n",
       "      <td>ENTERPRISE_SERVERLESS_REAL_TIME_INFERENCE_US_WEST_OREGON</td>\n",
       "      <td>45.500000000000000000</td>\n",
       "    </tr>\n",
       "    <tr>\n",
       "      <th>2</th>\n",
       "      <td>ENTERPRISE_JOBS_COMPUTE_(PHOTON)</td>\n",
       "      <td>18.165562944444444400</td>\n",
       "    </tr>\n",
       "    <tr>\n",
       "      <th>3</th>\n",
       "      <td>ENTERPRISE_ALL_PURPOSE_SERVERLESS_COMPUTE_US_WEST_OREGON</td>\n",
       "      <td>1.411592025000000020</td>\n",
       "    </tr>\n",
       "  </tbody>\n",
       "</table>"
      ],
      "text/plain": [
       "DataFrame[sku_name: string, total_dbu: decimal(38,18)]"
      ]
     },
     "execution_count": 2,
     "metadata": {},
     "output_type": "execute_result"
    }
   ],
   "source": [
    "%sql\n",
    "-- Sum DBUs by user last 30 days\n",
    "SELECT\n",
    "  sku_name,\n",
    "  -- usage_metadata.job_id,\n",
    "  -- usage_metadata.notebook_id,\n",
    "  SUM(usage_quantity) as total_dbu\n",
    "FROM\n",
    "  system.billing.usage\n",
    "WHERE\n",
    "  identity_metadata.run_as = 'juan.lamadrid@databricks.com'\n",
    "  -- and billing_origin_product in ('JOBS','INTERACTIVE')\n",
    "  -- and product_features.is_serverless -- for serverless only\n",
    "  and usage_unit = 'DBU'\n",
    "  and usage_date >= DATEADD(day, -30, current_date)\n",
    "GROUP BY all\n",
    "ORDER BY\n",
    "  total_dbu DESC\n"
   ]
  },
  {
   "cell_type": "code",
   "execution_count": 0,
   "metadata": {
    "application/vnd.databricks.v1+cell": {
     "cellMetadata": {
      "byteLimit": 2048000,
      "rowLimit": 10000
     },
     "inputWidgets": {},
     "nuid": "c707cd02-6295-453b-899b-78fef7a9801d",
     "showTitle": false,
     "tableResultSettingsMap": {},
     "title": ""
    },
    "vscode": {
     "languageId": "sql"
    }
   },
   "outputs": [],
   "source": [
    "-- Report on DBUs consumed by a particular user\n",
    "-- https://docs.databricks.com/en/admin/system-tables/serverless-billing.html#report-on-dbus-consumed-by-a-particular-user\n",
    "\n",
    "SELECT\n",
    "  usage_metadata.job_id,\n",
    "  usage_metadata.notebook_id,\n",
    "  SUM(usage_quantity) as total_dbu\n",
    "FROM\n",
    "  system.billing.usage\n",
    "WHERE\n",
    "  identity_metadata.run_as = 'juan.lamadrid@databricks.com'\n",
    "  and billing_origin_product in ('JOBS','INTERACTIVE')\n",
    "  and product_features.is_serverless -- SERVERLESS\n",
    "  and usage_unit = 'DBU'\n",
    "  and usage_date >= DATEADD(day, -30, current_date)\n",
    "GROUP BY\n",
    "  1,2\n",
    "ORDER BY\n",
    "  total_dbu DESC"
   ]
  },
  {
   "cell_type": "code",
   "execution_count": 0,
   "metadata": {
    "application/vnd.databricks.v1+cell": {
     "cellMetadata": {},
     "inputWidgets": {},
     "nuid": "0f86ce70-dd0f-4ced-8e19-2b2a485bdc6e",
     "showTitle": false,
     "tableResultSettingsMap": {},
     "title": ""
    },
    "vscode": {
     "languageId": "sql"
    }
   },
   "outputs": [],
   "source": []
  }
 ],
 "metadata": {
  "application/vnd.databricks.v1+notebook": {
   "computePreferences": null,
   "dashboards": [],
   "environmentMetadata": {
    "base_environment": "",
    "client": "1"
   },
   "language": "sql",
   "notebookMetadata": {
    "pythonIndentUnit": 2
   },
   "notebookName": "system-tables-user",
   "widgets": {}
  },
  "kernelspec": {
   "display_name": "dbrx-de-WrvEAxQj-py3.12",
   "language": "python",
   "name": "python3"
  },
  "language_info": {
   "codemirror_mode": {
    "name": "ipython",
    "version": 3
   },
   "file_extension": ".py",
   "mimetype": "text/x-python",
   "name": "python",
   "nbconvert_exporter": "python",
   "pygments_lexer": "ipython3",
   "version": "3.12.3"
  }
 },
 "nbformat": 4,
 "nbformat_minor": 0
}
