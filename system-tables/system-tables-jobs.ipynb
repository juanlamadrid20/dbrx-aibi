{
 "cells": [
  {
   "cell_type": "markdown",
   "metadata": {
    "application/vnd.databricks.v1+cell": {
     "cellMetadata": {},
     "inputWidgets": {},
     "nuid": "f80dc12a-92d8-4e0e-b4a7-8f57f7b40681",
     "showTitle": false,
     "tableResultSettingsMap": {},
     "title": ""
    }
   },
   "source": [
    "# Billing\n",
    "- https://docs.databricks.com/en/admin/system-tables/billing.html\n",
    "- https://docs.databricks.com/en/admin/system-tables/jobs-cost.html (Example queries)"
   ]
  },
  {
   "cell_type": "code",
   "execution_count": 0,
   "metadata": {
    "application/vnd.databricks.v1+cell": {
     "cellMetadata": {
      "byteLimit": 2048000,
      "rowLimit": 10000
     },
     "inputWidgets": {},
     "nuid": "7e525e75-2cdc-4e7e-ba64-13924472b1d3",
     "showTitle": false,
     "tableResultSettingsMap": {},
     "title": ""
    },
    "vscode": {
     "languageId": "sql"
    }
   },
   "outputs": [],
   "source": [
    "-- https://docs.databricks.com/en/admin/system-tables/jobs-cost.html#most-expensive-jobs-from-the-last-30-days\n",
    "-- most-expensive-jobs-from-the-last-30-days\n",
    "-- This query identifies the jobs with the highest spend from the last 30 days.\n",
    "with list_cost_per_job as (\n",
    "  SELECT\n",
    "    t1.workspace_id,\n",
    "    t1.usage_metadata.job_id,\n",
    "    COUNT(DISTINCT t1.usage_metadata.job_run_id) as runs,\n",
    "    SUM(t1.usage_quantity * list_prices.pricing.default) as list_cost,\n",
    "    first(identity_metadata.run_as, true) as run_as,\n",
    "    first(t1.custom_tags, true) as custom_tags,\n",
    "    MAX(t1.usage_end_time) as last_seen_date\n",
    "  FROM system.billing.usage t1\n",
    "  INNER JOIN system.billing.list_prices list_prices on\n",
    "    t1.cloud = list_prices.cloud and\n",
    "    t1.sku_name = list_prices.sku_name and\n",
    "    t1.usage_start_time >= list_prices.price_start_time and\n",
    "    (t1.usage_end_time <= list_prices.price_end_time or list_prices.price_end_time is null)\n",
    "  WHERE\n",
    "    t1.sku_name LIKE '%JOBS%'\n",
    "    AND t1.usage_metadata.job_id IS NOT NULL\n",
    "    AND t1.usage_date >= CURRENT_DATE() - INTERVAL 30 DAY\n",
    "  GROUP BY ALL\n",
    "),\n",
    "most_recent_jobs as (\n",
    "  SELECT\n",
    "    *,\n",
    "    ROW_NUMBER() OVER(PARTITION BY workspace_id, job_id ORDER BY change_time DESC) as rn\n",
    "  FROM\n",
    "    system.lakeflow.jobs QUALIFY rn=1\n",
    ")\n",
    "SELECT\n",
    "    t2.name,\n",
    "    t1.job_id,\n",
    "    t1.workspace_id,\n",
    "    t1.runs,\n",
    "    t1.run_as,\n",
    "    SUM(list_cost) as list_cost,\n",
    "    t1.last_seen_date\n",
    "FROM list_cost_per_job t1\n",
    "  LEFT JOIN most_recent_jobs t2 USING (workspace_id, job_id)\n",
    "GROUP BY ALL\n",
    "ORDER BY list_cost DESC\n"
   ]
  },
  {
   "cell_type": "code",
   "execution_count": 0,
   "metadata": {
    "application/vnd.databricks.v1+cell": {
     "cellMetadata": {
      "byteLimit": 2048000,
      "rowLimit": 10000
     },
     "inputWidgets": {},
     "nuid": "2b37f86e-7e0f-436f-9c1f-f1207bfd3277",
     "showTitle": false,
     "tableResultSettingsMap": {},
     "title": ""
    },
    "vscode": {
     "languageId": "sql"
    }
   },
   "outputs": [],
   "source": [
    "-- This query identifies the job runs with the highest spend from the last 30 days.\n",
    "with list_cost_per_job_run as (\n",
    "  SELECT\n",
    "    t1.workspace_id,\n",
    "    t1.usage_metadata.job_id,\n",
    "    t1.usage_metadata.job_run_id as run_id,\n",
    "    SUM(t1.usage_quantity * list_prices.pricing.default) as list_cost,\n",
    "    first(identity_metadata.run_as, true) as run_as,\n",
    "    first(t1.custom_tags, true) as custom_tags,\n",
    "    MAX(t1.usage_end_time) as last_seen_date\n",
    "  FROM system.billing.usage t1\n",
    "  INNER JOIN system.billing.list_prices list_prices on\n",
    "    t1.cloud = list_prices.cloud and\n",
    "    t1.sku_name = list_prices.sku_name and\n",
    "    t1.usage_start_time >= list_prices.price_start_time and\n",
    "    (t1.usage_end_time <= list_prices.price_end_time or list_prices.price_end_time is null)\n",
    "  WHERE\n",
    "    t1.sku_name LIKE '%JOBS%'\n",
    "    AND t1.usage_metadata.job_id IS NOT NULL\n",
    "    AND t1.usage_metadata.job_run_id IS NOT NULL\n",
    "    AND t1.usage_date >= CURRENT_DATE() - INTERVAL 30 DAY\n",
    "  GROUP BY ALL\n",
    "),\n",
    "most_recent_jobs as (\n",
    "  SELECT\n",
    "    *,\n",
    "    ROW_NUMBER() OVER(PARTITION BY workspace_id, job_id ORDER BY change_time DESC) as rn\n",
    "  FROM\n",
    "    system.lakeflow.jobs QUALIFY rn=1\n",
    ")\n",
    "SELECT\n",
    "    t1.workspace_id,\n",
    "    t2.name,\n",
    "    t1.job_id,\n",
    "    t1.run_id,\n",
    "     t1.run_as,\n",
    "    SUM(list_cost) as list_cost,\n",
    "    t1.last_seen_date\n",
    "FROM list_cost_per_job_run t1\n",
    "  LEFT JOIN most_recent_jobs t2 USING (workspace_id, job_id)\n",
    "GROUP BY ALL\n",
    "ORDER BY list_cost DESC\n"
   ]
  },
  {
   "cell_type": "code",
   "execution_count": 0,
   "metadata": {
    "application/vnd.databricks.v1+cell": {
     "cellMetadata": {
      "byteLimit": 2048000,
      "rowLimit": 10000
     },
     "inputWidgets": {},
     "nuid": "a218d068-838a-4436-9461-854f76d7c0bc",
     "showTitle": false,
     "tableResultSettingsMap": {},
     "title": ""
    },
    "vscode": {
     "languageId": "sql"
    }
   },
   "outputs": [],
   "source": [
    "-- Dashboard: system-tables:jobs ; Query: Job Run Cost\n",
    "SELECT\n",
    "  t1.usage_date,\n",
    "  t1.usage_metadata.job_id as job_id,\n",
    "  t1.usage_metadata.job_run_id as run_id,\n",
    "  t1.identity_metadata.run_as as run_as,\n",
    "  t1.usage_quantity as usage_quantity,\n",
    "  list_prices.pricing.default as pricing,\n",
    "  t1.usage_quantity * list_prices.pricing.default AS list_cost,\n",
    "  t1.*\n",
    "FROM system.billing.usage t1\n",
    "  INNER JOIN system.billing.list_prices list_prices \n",
    "    ON\n",
    "      t1.cloud = list_prices.cloud AND\n",
    "      t1.sku_name = list_prices.sku_name AND\n",
    "      t1.usage_start_time >= list_prices.price_start_time AND\n",
    "      (t1.usage_end_time <= list_prices.price_end_time or list_prices.price_end_time is NULL)\n",
    "WHERE\n",
    "  t1.sku_name LIKE '%JOBS%' AND\n",
    "  t1.usage_metadata.job_id IS NOT NULL AND\n",
    "  t1.usage_metadata.job_run_id IS NOT NULL AND\n",
    "  t1.identity_metadata.run_as = 'juan.lamadrid@databricks.com'\n",
    "ORDER BY t1.usage_date DESC;\n"
   ]
  },
  {
   "cell_type": "code",
   "execution_count": 0,
   "metadata": {
    "application/vnd.databricks.v1+cell": {
     "cellMetadata": {
      "byteLimit": 2048000,
      "rowLimit": 10000
     },
     "inputWidgets": {},
     "nuid": "ee1d178f-677a-4a5a-b02b-fa21c408049a",
     "showTitle": false,
     "tableResultSettingsMap": {},
     "title": ""
    },
    "vscode": {
     "languageId": "sql"
    }
   },
   "outputs": [],
   "source": [
    "-- DBU by job details\n",
    "SELECT \n",
    "  usage_date\n",
    "  ,sku_name\n",
    "  ,SUM(usage_quantity) as total_dbu\n",
    "FROM\n",
    "  system.billing.usage\n",
    "WHERE\n",
    "  identity_metadata.run_as = 'juan.lamadrid@databricks.com'\n",
    "  -- and billing_origin_product in ('JOBS')\n",
    "  and usage_metadata.job_id = \"164851159737624\"\n",
    "GROUP BY\n",
    "  1,2\n",
    "ORDER BY usage_date DESC"
   ]
  },
  {
   "cell_type": "code",
   "execution_count": 0,
   "metadata": {
    "application/vnd.databricks.v1+cell": {
     "cellMetadata": {
      "byteLimit": 2048000,
      "rowLimit": 10000
     },
     "inputWidgets": {},
     "nuid": "00060bb5-be8b-4e90-a5f9-82aa57f8a6fd",
     "showTitle": false,
     "tableResultSettingsMap": {},
     "title": ""
    },
    "vscode": {
     "languageId": "sql"
    }
   },
   "outputs": [],
   "source": [
    "-- all job details\n",
    "SELECT sku_name\n",
    "  ,usage_start_time\n",
    "  ,usage_end_time\n",
    "  ,usage_date\n",
    "  ,usage_quantity\n",
    "  ,usage_metadata\n",
    "  ,billing_origin_product\n",
    "  ,product_features\n",
    "  ,usage_type\n",
    "  ,ingestion_date\n",
    "  ,record_type\n",
    "FROM\n",
    "  system.billing.usage\n",
    "WHERE\n",
    "  identity_metadata.run_as = 'juan.lamadrid@databricks.com'\n",
    "  and billing_origin_product in ('JOBS')\n",
    "  and usage_metadata.job_id = \"164851159737624\"\n",
    "ORDER BY usage_start_time DESC"
   ]
  },
  {
   "cell_type": "code",
   "execution_count": 0,
   "metadata": {
    "application/vnd.databricks.v1+cell": {
     "cellMetadata": {},
     "inputWidgets": {},
     "nuid": "28b9acd6-08ce-4c42-9746-36696dc62169",
     "showTitle": false,
     "tableResultSettingsMap": {},
     "title": ""
    }
   },
   "outputs": [],
   "source": []
  },
  {
   "cell_type": "code",
   "execution_count": 0,
   "metadata": {
    "application/vnd.databricks.v1+cell": {
     "cellMetadata": {
      "byteLimit": 2048000,
      "rowLimit": 10000
     },
     "inputWidgets": {},
     "nuid": "69884c23-4822-41cf-9448-90d03f8d9810",
     "showTitle": false,
     "tableResultSettingsMap": {},
     "title": ""
    }
   },
   "outputs": [],
   "source": [
    "-- what was the result of jobs, how much did they cost and how many dbus did the use?\n",
    "with data as (\n",
    "  SELECT\n",
    "    u.workspace_id,\n",
    "    u.usage_metadata.job_id as job_id,\n",
    "    usage_metadata.job_run_id as run_id,\n",
    "    sum(lp.pricing.default * u.usage_quantity) as list_cost,\n",
    "    sum(u.usage_quantity) as dbus\n",
    "  FROM\n",
    "    system.billing.usage u\n",
    "    inner join system.billing.list_prices lp on u.cloud = lp.cloud\n",
    "    and u.sku_name = lp.sku_name\n",
    "    and u.usage_start_time >= lp.price_start_time\n",
    "    and (\n",
    "      u.usage_end_time <= lp.price_end_time\n",
    "      or lp.price_end_time is null\n",
    "    )\n",
    "    where u.sku_name like '%JOB%'\n",
    "    and usage_metadata.job_id is not null\n",
    "    group by all\n",
    "),\n",
    "job_runs as (\n",
    "    select date_trunc('DAY', period_end_time) as run_date, job_id, run_id, result_state \n",
    "    from system.lakeflow.job_run_timeline \n",
    "    where result_state is not null\n",
    "),\n",
    "run_times as (\n",
    "    select job_id, run_id, min(period_start_time) as start_time, max(period_end_time) as end_time\n",
    "    from system.lakeflow.job_run_timeline\n",
    "    group by all\n",
    "),\n",
    "job_runs_with_times as (\n",
    "    select * \n",
    "    from job_runs\n",
    "    inner join run_times using (job_id, run_id)\n",
    ")\n",
    "select  \n",
    "    workspace_id, \n",
    "    job_id,\n",
    "    run_id,\n",
    "    result_state,\n",
    "    start_time,\n",
    "    end_time,\n",
    "    list_cost,\n",
    "    dbus\n",
    "from data\n",
    "inner join job_runs_with_times using (job_id,run_id)"
   ]
  },
  {
   "cell_type": "code",
   "execution_count": 0,
   "metadata": {
    "application/vnd.databricks.v1+cell": {
     "cellMetadata": {},
     "inputWidgets": {},
     "nuid": "cbadbeec-0230-4282-93d1-1e3c31384559",
     "showTitle": false,
     "tableResultSettingsMap": {},
     "title": ""
    }
   },
   "outputs": [],
   "source": []
  }
 ],
 "metadata": {
  "application/vnd.databricks.v1+notebook": {
   "computePreferences": null,
   "dashboards": [],
   "environmentMetadata": {
    "base_environment": "",
    "environment_version": "1"
   },
   "inputWidgetPreferences": null,
   "language": "sql",
   "notebookMetadata": {
    "pythonIndentUnit": 2
   },
   "notebookName": "system-tables-jobs",
   "widgets": {}
  },
  "language_info": {
   "name": "sql"
  }
 },
 "nbformat": 4,
 "nbformat_minor": 0
}
