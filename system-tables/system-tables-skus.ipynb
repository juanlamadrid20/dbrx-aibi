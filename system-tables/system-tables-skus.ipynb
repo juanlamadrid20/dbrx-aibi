{
 "cells": [
  {
   "cell_type": "code",
   "execution_count": 0,
   "metadata": {
    "application/vnd.databricks.v1+cell": {
     "cellMetadata": {
      "byteLimit": 2048000,
      "rowLimit": 10000
     },
     "inputWidgets": {},
     "nuid": "63166392-b46f-490a-959e-48293808bdb8",
     "showTitle": false,
     "tableResultSettingsMap": {},
     "title": ""
    },
    "vscode": {
     "languageId": "sql"
    }
   },
   "outputs": [
    {
     "ename": "",
     "evalue": "",
     "output_type": "error",
     "traceback": [
      "\u001b[1;31mRunning cells with '.venv (Python 3.12.11)' requires the ipykernel package.\n",
      "\u001b[1;31mInstall 'ipykernel' into the Python environment. \n",
      "\u001b[1;31mCommand: '/Users/juan.lamadrid/dev/databricks-projects/aibi/aibi/.venv/bin/python -m pip install ipykernel -U --force-reinstall'"
     ]
    }
   ],
   "source": [
    "select\n",
    "  sku_name,\n",
    "  pricing.default,\n",
    "  price_start_time,\n",
    "  usage_unit,\n",
    "  cloud\n",
    "from\n",
    "  system.billing.list_prices\n",
    "where\n",
    "  price_end_time is null -- current price for a sku\n",
    "order by\n",
    "  sku_name;"
   ]
  },
  {
   "cell_type": "code",
   "execution_count": 0,
   "metadata": {
    "application/vnd.databricks.v1+cell": {
     "cellMetadata": {
      "byteLimit": 2048000,
      "rowLimit": 10000
     },
     "inputWidgets": {},
     "nuid": "90fc00ec-4045-43ab-8cec-7bc2b4f1a6ce",
     "showTitle": false,
     "tableResultSettingsMap": {},
     "title": ""
    },
    "vscode": {
     "languageId": "sql"
    }
   },
   "outputs": [],
   "source": [
    "SELECT \n",
    "    sku_name,\n",
    "    pricing.effective_list.default as unit_price,\n",
    "    pricing.promotional.default as promo_price\n",
    "FROM system.billing.list_prices\n",
    "WHERE \n",
    "    price_start_time <= CURRENT_TIMESTAMP \n",
    "    AND (price_end_time IS NULL OR price_end_time > CURRENT_TIMESTAMP)\n",
    "    AND sku_name IN (\n",
    "        'ENTERPRISE_ALL_PURPOSE_COMPUTE',\n",
    "        'ENTERPRISE_ALL_PURPOSE_COMPUTE_(PHOTON)',\n",
    "        'ENTERPRISE_ALL_PURPOSE_SERVERLESS_COMPUTE_US_WEST_OREGON',\n",
    "        'ENTERPRISE_DLT_ADVANCED_COMPUTE',\n",
    "        'ENTERPRISE_DLT_ADVANCED_COMPUTE_(PHOTON)',\n",
    "        'ENTERPRISE_JOBS_COMPUTE',\n",
    "        'ENTERPRISE_JOBS_COMPUTE_(PHOTON)',\n",
    "        'ENTERPRISE_JOBS_SERVERLESS_COMPUTE_US_WEST_OREGON',\n",
    "        'ENTERPRISE_SERVERLESS_REAL_TIME_INFERENCE_LAUNCH_US_WEST_OREGON',\n",
    "        'ENTERPRISE_SERVERLESS_REAL_TIME_INFERENCE_US_WEST_OREGON',\n",
    "        'ENTERPRISE_SERVERLESS_SQL_COMPUTE_US_WEST_OREGON',\n",
    "        'ENTERPRISE_SQL_COMPUTE',\n",
    "        'ENTERPRISE_SQL_PRO_COMPUTE_US_WEST_OREGON'\n",
    "    )\n",
    "ORDER BY sku_name ASC;"
   ]
  },
  {
   "cell_type": "code",
   "execution_count": 0,
   "metadata": {
    "application/vnd.databricks.v1+cell": {
     "cellMetadata": {
      "byteLimit": 2048000,
      "rowLimit": 10000
     },
     "inputWidgets": {},
     "nuid": "4020c408-8d50-46f0-8f43-67f02e8a91f1",
     "showTitle": false,
     "tableResultSettingsMap": {},
     "title": ""
    },
    "vscode": {
     "languageId": "sql"
    }
   },
   "outputs": [],
   "source": [
    "SELECT *\n",
    "FROM system.billing.list_prices\n",
    "WHERE \n",
    "    price_start_time <= CURRENT_TIMESTAMP \n",
    "    AND (price_end_time IS NULL OR price_end_time > CURRENT_TIMESTAMP)\n",
    "    AND contains(sku_name,\"DLT\")\n",
    "ORDER BY sku_name ASC;"
   ]
  },
  {
   "cell_type": "code",
   "execution_count": 0,
   "metadata": {
    "application/vnd.databricks.v1+cell": {
     "cellMetadata": {
      "byteLimit": 2048000,
      "rowLimit": 10000
     },
     "inputWidgets": {},
     "nuid": "dfcbe7ba-b2cd-4b56-9299-6106283946fc",
     "showTitle": false,
     "tableResultSettingsMap": {},
     "title": ""
    },
    "vscode": {
     "languageId": "sql"
    }
   },
   "outputs": [],
   "source": [
    "-- What are all of the photon SKUs and their list prices over time?\n",
    "select\n",
    "  sku_name,\n",
    "  pricing.default,\n",
    "  price_start_time,\n",
    "  price_end_time,\n",
    "  usage_unit\n",
    "from\n",
    "  system.billing.list_prices\n",
    "where\n",
    "  upper(sku_name) like '%PHOTON%'\n",
    "order by\n",
    "  sku_name,\n",
    "  price_start_time;"
   ]
  },
  {
   "cell_type": "code",
   "execution_count": 0,
   "metadata": {
    "application/vnd.databricks.v1+cell": {
     "cellMetadata": {
      "byteLimit": 2048000,
      "rowLimit": 10000
     },
     "inputWidgets": {},
     "nuid": "1e036f30-7ccb-4af5-a6bd-9d5e1043a35a",
     "showTitle": false,
     "tableResultSettingsMap": {},
     "title": ""
    },
    "vscode": {
     "languageId": "sql"
    }
   },
   "outputs": [],
   "source": [
    "-- What SKUs have ever had a price change?\n",
    "with skus as (\n",
    "  select\n",
    "    distinct sku_name -- distinct because it might have had multiple price changes\n",
    "  from\n",
    "    system.billing.list_prices\n",
    "  where\n",
    "    price_end_time is not null -- sku has had at least one price change\n",
    ")\n",
    "select\n",
    "  lp.sku_name,\n",
    "  pricing.default,\n",
    "  price_start_time,\n",
    "  price_end_time,\n",
    "  usage_unit\n",
    "from\n",
    "  system.billing.list_prices lp\n",
    "  inner join skus s on s.sku_name = lp.sku_name\n",
    "order by\n",
    "  sku_name,\n",
    "  price_start_time;"
   ]
  },
  {
   "cell_type": "code",
   "execution_count": 0,
   "metadata": {
    "application/vnd.databricks.v1+cell": {
     "cellMetadata": {},
     "inputWidgets": {},
     "nuid": "8a79abb6-c419-4a3d-8bbe-225cf220ca9c",
     "showTitle": false,
     "tableResultSettingsMap": {},
     "title": ""
    },
    "vscode": {
     "languageId": "sql"
    }
   },
   "outputs": [],
   "source": []
  }
 ],
 "metadata": {
  "application/vnd.databricks.v1+notebook": {
   "computePreferences": null,
   "dashboards": [],
   "environmentMetadata": null,
   "inputWidgetPreferences": null,
   "language": "sql",
   "notebookMetadata": {
    "pythonIndentUnit": 2
   },
   "notebookName": "system-tables-skus",
   "widgets": {}
  },
  "kernelspec": {
   "display_name": ".venv",
   "language": "python",
   "name": "python3"
  },
  "language_info": {
   "name": "python",
   "version": "3.12.11"
  }
 },
 "nbformat": 4,
 "nbformat_minor": 0
}
