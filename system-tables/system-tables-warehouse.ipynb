{
 "cells": [
  {
   "cell_type": "code",
   "execution_count": 0,
   "metadata": {
    "application/vnd.databricks.v1+cell": {
     "cellMetadata": {
      "byteLimit": 2048000,
      "rowLimit": 10000
     },
     "inputWidgets": {},
     "nuid": "74e8f119-7bff-4be1-9c73-08070f7132d1",
     "showTitle": false,
     "tableResultSettingsMap": {},
     "title": ""
    }
   },
   "outputs": [],
   "source": [
    "-- What are the total DBUs used by date and by SKUs for DBSQL for the account (all workspaces)?\n",
    "select\n",
    "  u.usage_date,\n",
    "  u.sku_name,\n",
    "  sum(u.usage_quantity) as total_dbus\n",
    "from\n",
    "  system.billing.usage u\n",
    "where\n",
    "  upper(u.sku_name) like '%SQL%'\n",
    "group by\n",
    "  all\n",
    "order by\n",
    "  total_dbus desc"
   ]
  },
  {
   "cell_type": "code",
   "execution_count": 0,
   "metadata": {
    "application/vnd.databricks.v1+cell": {
     "cellMetadata": {
      "byteLimit": 2048000,
      "rowLimit": 10000
     },
     "inputWidgets": {},
     "nuid": "6e25bafe-3a5e-41fa-8366-ed6c4f548dff",
     "showTitle": false,
     "tableResultSettingsMap": {},
     "title": ""
    }
   },
   "outputs": [],
   "source": [
    "-- What is the DBU spend for each workspace by month for DBSQL Serverless?\n",
    "select\n",
    "  u.workspace_id,\n",
    "  date_trunc('month', u.usage_date) as usage_month,\n",
    "  sum(u.usage_quantity) as total_dbus\n",
    "from\n",
    "  system.billing.usage u\n",
    "where\n",
    "  upper(u.sku_name) like '%SERVERLESS%'\n",
    "  and upper(u.billing_origin_product) like '%SQL%'\n",
    "group by\n",
    "  all\n",
    "order by\n",
    "  1,\n",
    "  2"
   ]
  },
  {
   "cell_type": "code",
   "execution_count": 0,
   "metadata": {
    "application/vnd.databricks.v1+cell": {
     "cellMetadata": {},
     "inputWidgets": {},
     "nuid": "e3ae1b13-e20c-4556-946c-828a96120299",
     "showTitle": false,
     "tableResultSettingsMap": {},
     "title": ""
    }
   },
   "outputs": [],
   "source": []
  }
 ],
 "metadata": {
  "application/vnd.databricks.v1+notebook": {
   "computePreferences": null,
   "dashboards": [],
   "environmentMetadata": null,
   "inputWidgetPreferences": null,
   "language": "sql",
   "notebookMetadata": {
    "pythonIndentUnit": 2
   },
   "notebookName": "system-tables-warehouse",
   "widgets": {}
  },
  "language_info": {
   "name": "sql"
  }
 },
 "nbformat": 4,
 "nbformat_minor": 0
}
