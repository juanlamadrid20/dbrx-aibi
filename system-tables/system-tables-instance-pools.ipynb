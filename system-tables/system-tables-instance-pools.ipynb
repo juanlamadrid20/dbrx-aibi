{
 "cells": [
  {
   "cell_type": "code",
   "execution_count": 0,
   "metadata": {
    "application/vnd.databricks.v1+cell": {
     "cellMetadata": {
      "byteLimit": 2048000,
      "rowLimit": 10000
     },
     "inputWidgets": {},
     "nuid": "85c86b25-f72e-40a0-88a1-cc6efdcd437d",
     "showTitle": false,
     "tableResultSettingsMap": {},
     "title": ""
    },
    "vscode": {
     "languageId": "sql"
    }
   },
   "outputs": [],
   "source": [
    "SELECT \n",
    "    cluster_id,\n",
    "    cluster_name,\n",
    "    workspace_id,\n",
    "    create_time,\n",
    "    driver_instance_pool_id,\n",
    "    worker_instance_pool_id,\n",
    "    owned_by,\n",
    "    cluster_source\n",
    "FROM system.compute.clusters  \n",
    "WHERE driver_instance_pool_id IS NOT NULL \n",
    "   OR worker_instance_pool_id IS NOT NULL"
   ]
  },
  {
   "cell_type": "code",
   "execution_count": 0,
   "metadata": {
    "application/vnd.databricks.v1+cell": {
     "cellMetadata": {},
     "inputWidgets": {},
     "nuid": "587eaa90-b56e-4988-9173-e952f0e3f32c",
     "showTitle": false,
     "tableResultSettingsMap": {},
     "title": ""
    }
   },
   "outputs": [],
   "source": []
  }
 ],
 "metadata": {
  "application/vnd.databricks.v1+notebook": {
   "computePreferences": null,
   "dashboards": [],
   "environmentMetadata": null,
   "inputWidgetPreferences": null,
   "language": "sql",
   "notebookMetadata": {
    "pythonIndentUnit": 2
   },
   "notebookName": "system-tables-instance-pools",
   "widgets": {}
  },
  "kernelspec": {
   "display_name": "dbrx-de-WrvEAxQj-py3.12",
   "language": "python",
   "name": "python3"
  },
  "language_info": {
   "name": "sql"
  }
 },
 "nbformat": 4,
 "nbformat_minor": 0
}
