{
 "cells": [
  {
   "cell_type": "markdown",
   "metadata": {
    "application/vnd.databricks.v1+cell": {
     "cellMetadata": {},
     "inputWidgets": {},
     "nuid": "44fe433b-779e-47c5-9a56-427c9602f27a",
     "showTitle": false,
     "tableResultSettingsMap": {},
     "title": ""
    }
   },
   "source": [
    "#Programatically enabling system tables for Databricks\n",
    "Since system tables are governed by Unity Catalog, you need at least one Unity Catalog-governed workspace in your account to enable system tables. That way you can map your system tables to the Unity Catalog metastore. System tables must be enabled by an **account admin**. You can enable system tables in your account using either the Databricks CLI or by calling the Unity Catalog API in a notebook.\n",
    "<br>\n",
    "<br>\n",
    "You can enable system tables using API calls or directly in a Databricks notebook (such as this example). Please refer to the documentation for your cloud for further details ([AWS](https://docs.databricks.com/administration-guide/system-tables/index.html) | [Azure](https://learn.microsoft.com/en-us/azure/databricks/administration-guide/system-tables/))\n",
    "\n",
    "\n",
    "**Running this notebook will turn the system table and you will see them in your system catalog.**"
   ]
  },
  {
   "cell_type": "markdown",
   "metadata": {
    "application/vnd.databricks.v1+cell": {
     "cellMetadata": {},
     "inputWidgets": {},
     "nuid": "6b2b3511-d815-4cbe-8128-86d6e01e3cd8",
     "showTitle": false,
     "tableResultSettingsMap": {},
     "title": ""
    }
   },
   "source": [
    "### Creating the widget to be used as input for the metastore ID\n",
    "The metastore ID can be found by clicking on the metastore details icon present in the `Data` tab of your Databricks workspace.\n",
    "![metastore_id_image](./images/metastore_id.png)"
   ]
  },
  {
   "cell_type": "code",
   "execution_count": null,
   "metadata": {
    "application/vnd.databricks.v1+cell": {
     "cellMetadata": {
      "byteLimit": 2048000,
      "rowLimit": 10000
     },
     "inputWidgets": {},
     "nuid": "3d799d2c-c743-465f-823c-798156502658",
     "showTitle": false,
     "tableResultSettingsMap": {},
     "title": ""
    }
   },
   "outputs": [],
   "source": [
    "metastore_id = spark.sql(\"SELECT current_metastore() as metastore_id\").collect()[0][\"metastore_id\"]\n",
    "metastore_id = metastore_id[metastore_id.rfind(':')+1:]\n",
    "dbutils.widgets.removeAll()"
   ]
  },
  {
   "cell_type": "code",
   "execution_count": null,
   "metadata": {
    "application/vnd.databricks.v1+cell": {
     "cellMetadata": {
      "byteLimit": 2048000,
      "rowLimit": 10000
     },
     "inputWidgets": {},
     "nuid": "6096d9e2-60cd-40aa-b939-b1f3af5a9eeb",
     "showTitle": false,
     "tableResultSettingsMap": {},
     "title": ""
    }
   },
   "outputs": [],
   "source": [
    "dbutils.widgets.text(\"metastore_id\", metastore_id, \"Metastore ID\")"
   ]
  },
  {
   "cell_type": "markdown",
   "metadata": {
    "application/vnd.databricks.v1+cell": {
     "cellMetadata": {},
     "inputWidgets": {},
     "nuid": "7dc7e1e9-a1c5-41d2-9c04-16bf7f33b882",
     "showTitle": false,
     "tableResultSettingsMap": {},
     "title": ""
    }
   },
   "source": [
    "### Setting up authentication\n",
    "We are leveraging the fact that we are already using a Databricks notebook and so we don't need to handle tokens and environment variables, we can import what we need using dbutils"
   ]
  },
  {
   "cell_type": "code",
   "execution_count": null,
   "metadata": {
    "application/vnd.databricks.v1+cell": {
     "cellMetadata": {
      "byteLimit": 2048000,
      "rowLimit": 10000
     },
     "inputWidgets": {},
     "nuid": "47eefbd5-76d8-4050-9c8e-c32eef79c7ab",
     "showTitle": false,
     "tableResultSettingsMap": {},
     "title": ""
    }
   },
   "outputs": [],
   "source": [
    "import requests\n",
    "from time import sleep\n",
    "metastore_id = dbutils.widgets.get(\"metastore_id\")\n",
    "host = \"https://\"+dbutils.notebook.entry_point.getDbutils().notebook().getContext().browserHostName().get()\n",
    "headers = {\"Authorization\": \"Bearer \"+dbutils.notebook.entry_point.getDbutils().notebook().getContext().apiToken().get()}"
   ]
  },
  {
   "cell_type": "markdown",
   "metadata": {
    "application/vnd.databricks.v1+cell": {
     "cellMetadata": {},
     "inputWidgets": {},
     "nuid": "48ab9091-e2e6-4e45-b8fc-1c85874eb040",
     "showTitle": false,
     "tableResultSettingsMap": {},
     "title": ""
    }
   },
   "source": [
    "Check which schemas are available in order to go through the list of schemas that we need to enable"
   ]
  },
  {
   "cell_type": "code",
   "execution_count": 0,
   "metadata": {
    "application/vnd.databricks.v1+cell": {
     "cellMetadata": {
      "byteLimit": 2048000,
      "rowLimit": 10000
     },
     "inputWidgets": {},
     "nuid": "c4218737-ccb3-4c40-a8a7-21d7f4d59d5c",
     "showTitle": false,
     "tableResultSettingsMap": {},
     "title": ""
    }
   },
   "outputs": [],
   "source": [
    "import json\n",
    "r = requests.get(f\"{host}/api/2.0/unity-catalog/metastores/{metastore_id}/systemschemas\", headers=headers).json()\n",
    "print(json.dumps(r, indent=1))"
   ]
  },
  {
   "cell_type": "code",
   "execution_count": 0,
   "metadata": {
    "application/vnd.databricks.v1+cell": {
     "cellMetadata": {},
     "inputWidgets": {},
     "nuid": "8c172ebc-f41d-4122-a4a8-980864b54585",
     "showTitle": false,
     "tableResultSettingsMap": {},
     "title": ""
    }
   },
   "outputs": [],
   "source": [
    "schemas_to_enable = []\n",
    "already_enabled = []\n",
    "others = []\n",
    "for schema in r['schemas']:\n",
    "    if schema['state'].lower() == \"available\":\n",
    "        schemas_to_enable.append(schema[\"schema\"])\n",
    "    elif schema['state'].lower() == \"enable_completed\":\n",
    "        already_enabled.append(schema[\"schema\"])\n",
    "    else:\n",
    "        others.append(schema[\"schema\"])\n",
    "print(f\"Schemas that will be enabled: {schemas_to_enable}\")\n",
    "print(f\"Schemas that are already enabled: {already_enabled}\")\n",
    "print(f\"Unavailable schemas: {others}\")"
   ]
  },
  {
   "cell_type": "markdown",
   "metadata": {
    "application/vnd.databricks.v1+cell": {
     "cellMetadata": {},
     "inputWidgets": {},
     "nuid": "7b6b10a2-d749-4a08-8a12-e30918bd12ed",
     "showTitle": false,
     "tableResultSettingsMap": {},
     "title": ""
    }
   },
   "source": [
    "### Enabling schemas"
   ]
  },
  {
   "cell_type": "code",
   "execution_count": 0,
   "metadata": {
    "application/vnd.databricks.v1+cell": {
     "cellMetadata": {},
     "inputWidgets": {},
     "nuid": "1256a062-e019-40f8-aba6-204576ab2407",
     "showTitle": false,
     "tableResultSettingsMap": {},
     "title": ""
    }
   },
   "outputs": [],
   "source": [
    "for schema in schemas_to_enable:\n",
    "    host = \"https://\"+dbutils.notebook.entry_point.getDbutils().notebook().getContext().browserHostName().get()\n",
    "    headers = {\"Authorization\": \"Bearer \"+dbutils.notebook.entry_point.getDbutils().notebook().getContext().apiToken().get()}\n",
    "    r = requests.put(f\"{host}/api/2.0/unity-catalog/metastores/{metastore_id}/systemschemas/{schema}\", headers=headers)\n",
    "    if r.status_code == 200:\n",
    "        print(f\"Schema {schema} enabled successfully\")\n",
    "    else:\n",
    "        print(f\"\"\"Error enabling the schema `{schema}`: {r.json()[\"error_code\"]} | Description: {r.json()[\"message\"]}\"\"\")\n",
    "    sleep(1)"
   ]
  }
 ],
 "metadata": {
  "application/vnd.databricks.v1+notebook": {
   "computePreferences": null,
   "dashboards": [],
   "environmentMetadata": null,
   "language": "python",
   "notebookMetadata": {
    "pythonIndentUnit": 2
   },
   "notebookName": "enable_system_tables",
   "widgets": {
    "metastore_id": {
     "currentValue": "b169b504-4c54-49f2-bc3a-adf4b128f36d",
     "nuid": "96f8f64a-06bb-47c6-bf30-e052ec581da3",
     "typedWidgetInfo": null,
     "widgetInfo": {
      "defaultValue": "b169b504-4c54-49f2-bc3a-adf4b128f36d",
      "label": "Metastore ID",
      "name": "metastore_id",
      "options": {
       "autoCreated": null,
       "validationRegex": null,
       "widgetType": "text"
      },
      "widgetType": "text"
     }
    }
   }
  },
  "kernelspec": {
   "display_name": "dbrx-de-WrvEAxQj-py3.12",
   "language": "python",
   "name": "python3"
  },
  "language_info": {
   "codemirror_mode": {
    "name": "ipython",
    "version": 3
   },
   "file_extension": ".py",
   "mimetype": "text/x-python",
   "name": "python",
   "nbconvert_exporter": "python",
   "pygments_lexer": "ipython3",
   "version": "3.12.3"
  }
 },
 "nbformat": 4,
 "nbformat_minor": 0
}
