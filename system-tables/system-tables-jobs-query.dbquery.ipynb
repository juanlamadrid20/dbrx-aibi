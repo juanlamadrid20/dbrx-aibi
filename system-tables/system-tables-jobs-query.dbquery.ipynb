{
 "cells": [
  {
   "cell_type": "code",
   "execution_count": 0,
   "metadata": {
    "application/vnd.databricks.v1+cell": {
     "cellMetadata": {
      "byteLimit": 10485760,
      "rowLimit": 64000
     },
     "inputWidgets": {},
     "nuid": "242427c9-4565-4d22-9c5c-1898b14d498e",
     "showTitle": false,
     "tableResultSettingsMap": {},
     "title": ""
    }
   },
   "outputs": [],
   "source": [
    "SELECT\n",
    "  t1.usage_date,\n",
    "  t1.usage_metadata.job_id as job_id,\n",
    "  t1.usage_metadata.job_run_id as run_id,\n",
    "  t1.identity_metadata.run_as as run_as,\n",
    "  t1.usage_quantity as usage_quantity,\n",
    "  list_prices.pricing.default as pricing,\n",
    "  t1.usage_quantity * list_prices.pricing.default AS list_cost,\n",
    "  t1.*\n",
    "FROM system.billing.usage t1\n",
    "  INNER JOIN system.billing.list_prices list_prices \n",
    "    ON\n",
    "      t1.cloud = list_prices.cloud AND\n",
    "      t1.sku_name = list_prices.sku_name AND\n",
    "      t1.usage_start_time >= list_prices.price_start_time AND\n",
    "      (t1.usage_end_time <= list_prices.price_end_time or list_prices.price_end_time is NULL)\n",
    "WHERE\n",
    "  t1.sku_name LIKE '%JOBS%' AND\n",
    "  t1.usage_metadata.job_id = :jobId AND -- t1.usage_metadata.job_id IS NOT NULL AND\n",
    "  t1.usage_metadata.job_run_id IS NOT NULL AND\n",
    "  t1.identity_metadata.run_as = 'juan.lamadrid@databricks.com'\n",
    "ORDER BY t1.usage_date DESC;"
   ]
  }
 ],
 "metadata": {
  "application/vnd.databricks.v1+notebook": {
   "computePreferences": null,
   "dashboards": [],
   "environmentMetadata": null,
   "inputWidgetPreferences": null,
   "language": "sql",
   "notebookMetadata": {
    "pythonIndentUnit": 2,
    "sqlQueryOptions": {
     "applyAutoLimit": false,
     "catalog": "main",
     "schema": "&"
    }
   },
   "notebookName": "system-tables-jobs-query.dbquery.ipynb",
   "widgets": {
    "jobId": {
     "currentValue": "409784437834815",
     "nuid": "6a6a4a7e-ba4a-4f38-80bc-5e36a3874d3f",
     "typedWidgetInfo": {
      "autoCreated": true,
      "defaultValue": "",
      "label": null,
      "name": "jobId",
      "options": {
       "widgetDisplayType": "Text",
       "validationRegex": null
      },
      "parameterDataType": "String"
     },
     "widgetInfo": {
      "widgetType": "text",
      "defaultValue": "",
      "label": null,
      "name": "jobId",
      "options": {
       "widgetType": "text",
       "autoCreated": true,
       "validationRegex": null
      }
     }
    }
   }
  },
  "language_info": {
   "name": "sql"
  }
 },
 "nbformat": 4,
 "nbformat_minor": 0
}
