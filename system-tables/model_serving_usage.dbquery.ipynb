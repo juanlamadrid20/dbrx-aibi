{
 "cells": [
  {
   "cell_type": "code",
   "execution_count": 0,
   "metadata": {
    "application/vnd.databricks.v1+cell": {
     "cellMetadata": {
      "byteLimit": 10485760,
      "rowLimit": 1000
     },
     "inputWidgets": {},
     "nuid": "8e48f689-41eb-4d05-a327-a28d79c76c1b",
     "showTitle": false,
     "tableResultSettingsMap": {},
     "title": ""
    }
   },
   "outputs": [],
   "source": [
    "-- Query to analyze ML model serving consumption metrics across workspaces\n",
    "WITH model_serving_usage AS (\n",
    "    SELECT \n",
    "        usage_date,\n",
    "        usage_metadata.endpoint_name AS endpoint_name,\n",
    "        sku_name,\n",
    "        billing_origin_product,\n",
    "        -- Extract relevant custom tags for better analysis\n",
    "        custom_tags,\n",
    "        usage_quantity,\n",
    "        usage_unit,\n",
    "        usage_type,\n",
    "        usage_start_time,\n",
    "        usage_end_time,\n",
    "        workspace_id,\n",
    "        cloud,\n",
    "        account_id,\n",
    "        usage_metadata,\n",
    "        product_features\n",
    "    FROM system.billing.usage u\n",
    "    WHERE \n",
    "        -- Filter for ML model serving related usage only\n",
    "        contains(sku_name, 'SERVERLESS_REAL_TIME_INFERENCE')\n",
    "        AND billing_origin_product = 'MODEL_SERVING'\n",
    "        AND usage_date BETWEEN :p_start_date AND :p_end_date\n",
    "        -- Dynamic filtering based on user parameters\n",
    "        AND (:p_endpoint = '--all--' OR contains(usage_metadata.endpoint_name, :p_endpoint))\n",
    "        AND (:workspace_id = '--all--' OR contains(workspace_id, :workspace_id))\n",
    ")\n",
    "\n",
    "SELECT \n",
    "    u.usage_date,\n",
    "    u.endpoint_name,\n",
    "    u.sku_name,\n",
    "    u.billing_origin_product,\n",
    "    u.custom_tags,\n",
    "    u.usage_quantity,\n",
    "    u.usage_unit,\n",
    "    u.usage_type,\n",
    "    -- Calculate costs\n",
    "    lp.pricing.default AS list_price,\n",
    "    lp.pricing.default * u.usage_quantity AS list_cost,\n",
    "    -- Additional time-based dimensions\n",
    "    date_format(u.usage_date, 'yyyy-MM') AS year_month,\n",
    "    u.usage_start_time,\n",
    "    u.usage_end_time,\n",
    "    u.workspace_id,\n",
    "    u.cloud,\n",
    "    u.account_id,\n",
    "    u.usage_metadata,\n",
    "    u.product_features\n",
    "FROM model_serving_usage u\n",
    "INNER JOIN system.billing.list_prices lp \n",
    "    ON  u.cloud = lp.cloud \n",
    "    AND u.sku_name = lp.sku_name \n",
    "    AND u.usage_start_time >= lp.price_start_time\n",
    "ORDER BY u.usage_start_time DESC;"
   ]
  }
 ],
 "metadata": {
  "application/vnd.databricks.v1+notebook": {
   "computePreferences": null,
   "dashboards": [],
   "environmentMetadata": null,
   "inputWidgetPreferences": null,
   "language": "sql",
   "notebookMetadata": {
    "sqlQueryOptions": {
     "applyAutoLimit": true,
     "catalog": "juan_dev",
     "schema": "faker"
    }
   },
   "notebookName": "model_serving_usage.dbquery.ipynb",
   "widgets": {
    "p_end_date": {
     "currentValue": "2025-01-06",
     "nuid": "e866326d-0660-4a91-adc8-4f1d026caafe",
     "typedWidgetInfo": {
      "autoCreated": false,
      "defaultValue": "",
      "label": "",
      "name": "p_end_date",
      "options": {
       "widgetDisplayType": "Text",
       "validationRegex": null
      },
      "parameterDataType": "Date"
     },
     "widgetInfo": {
      "widgetType": "text",
      "defaultValue": "",
      "label": "",
      "name": "p_end_date",
      "options": {
       "widgetType": "text",
       "autoCreated": false,
       "validationRegex": null
      }
     }
    },
    "p_endpoint": {
     "currentValue": "databricks-meta-llama-3-1-405b-instruct",
     "nuid": "58d67005-a7b7-41a5-8fd6-fda477420fe2",
     "typedWidgetInfo": {
      "autoCreated": false,
      "defaultValue": "",
      "label": "",
      "name": "p_endpoint",
      "options": {
       "widgetDisplayType": "Text",
       "validationRegex": null
      },
      "parameterDataType": "String"
     },
     "widgetInfo": {
      "widgetType": "text",
      "defaultValue": "",
      "label": "",
      "name": "p_endpoint",
      "options": {
       "widgetType": "text",
       "autoCreated": false,
       "validationRegex": null
      }
     }
    },
    "p_start_date": {
     "currentValue": "2024-10-29",
     "nuid": "c94c0fca-f019-4d4a-9d16-ddcb67cec3e9",
     "typedWidgetInfo": {
      "autoCreated": false,
      "defaultValue": "",
      "label": "",
      "name": "p_start_date",
      "options": {
       "widgetDisplayType": "Text",
       "validationRegex": null
      },
      "parameterDataType": "Date"
     },
     "widgetInfo": {
      "widgetType": "text",
      "defaultValue": "",
      "label": "",
      "name": "p_start_date",
      "options": {
       "widgetType": "text",
       "autoCreated": false,
       "validationRegex": null
      }
     }
    },
    "workspace_id": {
     "currentValue": "--all--",
     "nuid": "1720a8cc-3119-4e07-893f-f3415ce397ed",
     "typedWidgetInfo": {
      "autoCreated": true,
      "defaultValue": "",
      "label": null,
      "name": "workspace_id",
      "options": {
       "widgetDisplayType": "Text",
       "validationRegex": null
      },
      "parameterDataType": "String"
     },
     "widgetInfo": {
      "widgetType": "text",
      "defaultValue": "",
      "label": null,
      "name": "workspace_id",
      "options": {
       "widgetType": "text",
       "autoCreated": true,
       "validationRegex": null
      }
     }
    }
   }
  },
  "language_info": {
   "name": "sql"
  }
 },
 "nbformat": 4,
 "nbformat_minor": 0
}
