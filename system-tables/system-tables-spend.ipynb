{
 "cells": [
  {
   "cell_type": "markdown",
   "metadata": {
    "application/vnd.databricks.v1+cell": {
     "cellMetadata": {},
     "inputWidgets": {},
     "nuid": "b1a4701b-6407-447e-a406-3044d1d4894e",
     "showTitle": false,
     "tableResultSettingsMap": {},
     "title": ""
    }
   },
   "source": [
    "-- https://community.databricks.com/t5/technical-blog/top-10-queries-to-use-with-system-tables/ba-p/82331#toc-hId-1368139511\n",
    "\n"
   ]
  },
  {
   "cell_type": "code",
   "execution_count": 0,
   "metadata": {
    "application/vnd.databricks.v1+cell": {
     "cellMetadata": {},
     "inputWidgets": {},
     "nuid": "364352f5-bbb5-4738-bc81-7ce6b9362936",
     "showTitle": false,
     "tableResultSettingsMap": {},
     "title": ""
    },
    "vscode": {
     "languageId": "sql"
    }
   },
   "outputs": [],
   "source": [
    "SELECT\n",
    "    u.usage_date,\n",
    "    u.sku_name,\n",
    "    SUM(u.usage_quantity) AS dbus,\n",
    "    FIRST(lp.pricing.default) AS list_price,\n",
    "    SUM(u.usage_quantity) * FIRST(lp.pricing.default) AS dollar_dbus_list\n",
    "FROM system.billing.usage u\n",
    "INNER JOIN system.billing.list_prices lp ON u.sku_name = lp.sku_name\n",
    "    AND u.usage_start_time >= lp.price_start_time\n",
    "    AND (\n",
    "        u.usage_end_time <= lp.price_end_time\n",
    "        or lp.price_end_time is null\n",
    "    )\n",
    "GROUP BY u.usage_date, u.sku_name\n",
    "ORDER BY u.usage_date DESC, u.sku_name DESC"
   ]
  },
  {
   "cell_type": "code",
   "execution_count": 0,
   "metadata": {
    "application/vnd.databricks.v1+cell": {
     "cellMetadata": {},
     "inputWidgets": {},
     "nuid": "481dec30-1c4e-41c8-a7d7-5bfe8e373dea",
     "showTitle": false,
     "tableResultSettingsMap": {},
     "title": ""
    },
    "vscode": {
     "languageId": "sql"
    }
   },
   "outputs": [],
   "source": [
    "SELECT\n",
    "    LEFT(u.usage_date, 7) AS year_month,\n",
    "    u.workspace_id,\n",
    "    u.sku_name,\n",
    "    SUM(u.usage_quantity) AS dbus,\n",
    "    FIRST(lp.pricing.default) AS list_price,\n",
    "    SUM(u.usage_quantity) * FIRST(lp.pricing.default) AS dollar_dbus_list\n",
    "FROM\n",
    "    system.billing.usage u\n",
    "INNER JOIN system.billing.list_prices lp ON u.sku_name = lp.sku_name\n",
    "    AND u.usage_start_time >= lp.price_start_time\n",
    "    AND ( u.usage_end_time <= lp.price_end_time OR lp.price_end_time is null)\n",
    "GROUP BY u.workspace_id, LEFT(u.usage_date, 7), u.sku_name\n",
    "ORDER BY year_month, u.workspace_id DESC"
   ]
  }
 ],
 "metadata": {
  "application/vnd.databricks.v1+notebook": {
   "computePreferences": null,
   "dashboards": [],
   "environmentMetadata": null,
   "inputWidgetPreferences": null,
   "language": "sql",
   "notebookMetadata": {
    "pythonIndentUnit": 2
   },
   "notebookName": "system-tables-spend",
   "widgets": {}
  },
  "kernelspec": {
   "display_name": "dbrx-de-WrvEAxQj-py3.11",
   "language": "python",
   "name": "python3"
  },
  "language_info": {
   "name": "sql"
  }
 },
 "nbformat": 4,
 "nbformat_minor": 0
}
